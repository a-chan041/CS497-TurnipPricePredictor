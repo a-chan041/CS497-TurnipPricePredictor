{
  "nbformat": 4,
  "nbformat_minor": 0,
  "metadata": {
    "colab": {
      "name": "TurnipPredictionipynb",
      "provenance": [],
      "collapsed_sections": [],
      "include_colab_link": true
    },
    "kernelspec": {
      "name": "python3",
      "display_name": "Python 3"
    }
  },
  "cells": [
    {
      "cell_type": "markdown",
      "metadata": {
        "id": "view-in-github",
        "colab_type": "text"
      },
      "source": [
        "<a href=\"https://colab.research.google.com/github/a-chan041/CS497-TurnipPricePredictor/blob/master/TurnipPredictionipynb.ipynb\" target=\"_parent\"><img src=\"https://colab.research.google.com/assets/colab-badge.svg\" alt=\"Open In Colab\"/></a>"
      ]
    },
    {
      "cell_type": "code",
      "metadata": {
        "id": "RGxs_Dcd67xL",
        "colab_type": "code",
        "colab": {}
      },
      "source": [
        "import pandas as pd\n",
        "import numpy as np\n",
        "import math\n",
        "import matplotlib.pyplot as plt\n",
        "from sklearn.model_selection import train_test_split\n",
        "from sklearn.linear_model import LinearRegression\n",
        "\n",
        "# monday-saturday day number (no sunday)\n",
        "# and sell price\n",
        "\n",
        "# 0 means not recorded so we skip that value\n",
        "week_pairs = [\n",
        "    [\n",
        "        # Monday 4/6 AM\n",
        "        (0.0, 0),\n",
        "        # Monday 4/6 PM\n",
        "        (0.5, 0),\n",
        "        (1.0, 150),\n",
        "        (1.5, 160),\n",
        "        (2.0, 154),\n",
        "        (2.5, 61),\n",
        "        (3.0, 57),\n",
        "        (3.5, 51),\n",
        "        (4.0, 48),\n",
        "        (4.5, 44),\n",
        "        (5.0, 40),\n",
        "        (5.5, 37),\n",
        "    ],\n",
        "\n",
        "    [\n",
        "        # Monday 4/13 AM\n",
        "        (0.0, 96),\n",
        "        (0.5, 94),\n",
        "        (1.0, 88),\n",
        "        (1.5, 84),\n",
        "        (2.0, 81),\n",
        "        (2.5, 77),\n",
        "        (3.0, 73),\n",
        "        (3.5, 68),\n",
        "        (4.0, 64),\n",
        "        (4.5, 61),\n",
        "        (5.0, 57),\n",
        "        (5.5, 51),\n",
        "    ],\n",
        "\n",
        "    [\n",
        "        # Monday 4/20 AM\n",
        "        (0.0, 80),\n",
        "        (0.5, 76),\n",
        "        (1.0, 72),\n",
        "        (1.5, 68),\n",
        "        (2.0, 84),\n",
        "        (2.5, 86),\n",
        "        (3.0, 126),\n",
        "        (3.5, 180),\n",
        "        (4.0, 137),\n",
        "        (4.5, 53),\n",
        "        (5.0, 50),\n",
        "        (5.5, 46),\n",
        "    ],\n",
        "\n",
        "    [\n",
        "        # Monday 4/27 AM\n",
        "        (0.0, 89),\n",
        "        (0.5, 85),\n",
        "        (1.0, 82),\n",
        "        (1.5, 78),\n",
        "        (2.0, 74),\n",
        "        (2.5, 137),\n",
        "        (3.0, 165),\n",
        "        (3.5, 169),\n",
        "        (4.0, 155),\n",
        "        (4.5, 53),\n",
        "        (5.0, 49),\n",
        "        (5.5, 43),\n",
        "    ],\n",
        "\n",
        "    [\n",
        "        # Monday 5/4 AM\n",
        "        (0.0, 73),\n",
        "        (0.5, 68),\n",
        "        (1.0, 63),\n",
        "        (1.5, 124),\n",
        "        (2.0, 138),\n",
        "        (2.5, 155),\n",
        "        (3.0, 194),\n",
        "        (3.5, 166),\n",
        "        (4.0, 0),\n",
        "        (4.5, 0),\n",
        "        (5.0, 0),\n",
        "        (5.5, 0),\n",
        "    ],\n",
        "]\n",
        "\n",
        "MAX_Y = 1000\n",
        "\n",
        "def cleaned_pairs(selection):\n",
        "  new_pairs = []\n",
        "  for pair in week_pairs[selection]:\n",
        "    (day, price) = pair\n",
        "    if price < MAX_Y and price != 0:\n",
        "      new_pairs.append(pair)\n",
        "\n",
        "  return new_pairs\n",
        "\n",
        "def get_week(selection):\n",
        "    Xs = [day for (day, price) in cleaned_pairs(selection)]\n",
        "    Ys = [price for (day, price) in cleaned_pairs(selection)]\n",
        "    return (Xs, Ys)\n",
        "\n",
        "def select_split(selection):\n",
        "    (Xs, Ys) = get_week(selection)\n",
        "    X_train, X_test, y_train, y_test = train_test_split(Xs, Ys, test_size=.25, random_state=0)\n",
        "    return X_train, y_train\n",
        "\n",
        "\n",
        "def select_model(selection):\n",
        "    X, Y = select_split(selection)\n",
        "    X_train = np.array(X).reshape(-1, 1)\n",
        "    model = LinearRegression().fit(X_train, Y)\n",
        "    return model\n"
      ],
      "execution_count": 0,
      "outputs": []
    },
    {
      "cell_type": "code",
      "metadata": {
        "id": "saXnSwZBsl7q",
        "colab_type": "code",
        "outputId": "85351862-f341-468f-8fec-da3385531469",
        "colab": {
          "base_uri": "https://localhost:8080/",
          "height": 283
        }
      },
      "source": [
        "\n",
        "# concatted x and y for plotting\n",
        "X = []\n",
        "Y = []\n",
        "total_day = 0.0\n",
        "for pairs in week_pairs:\n",
        "  for (_day, price) in pairs:\n",
        "    X.append(total_day)\n",
        "    total_day += 0.5\n",
        "    Y.append(price)\n",
        "\n",
        "regr = select_model(0)\n",
        "plt.axhline(y=MAX_Y)\n",
        "plt.axvline(x=0.0)\n",
        "plt.axvline(x=6.0)\n",
        "plt.axvline(x=12.0)\n",
        "plt.axvline(x=18.0)\n",
        "plt.axvline(x=24.0)\n",
        "plt.axvline(x=30.0)\n",
        "plt.scatter(X, Y)"
      ],
      "execution_count": 0,
      "outputs": [
        {
          "output_type": "execute_result",
          "data": {
            "text/plain": [
              "<matplotlib.collections.PathCollection at 0x7f28d6233828>"
            ]
          },
          "metadata": {
            "tags": []
          },
          "execution_count": 3
        },
        {
          "output_type": "display_data",
          "data": {
            "image/png": "[encoded data removed]",
            "text/plain": [
              "<Figure size 432x288 with 1 Axes>"
            ]
          },
          "metadata": {
            "tags": [],
            "needs_background": "light"
          }
        }
      ]
    },
    {
      "cell_type": "code",
      "metadata": {
        "id": "deSjIWC-Rfva",
        "colab_type": "code",
        "outputId": "b55366e7-2eb0-49ca-ac7c-d801ec75ee74",
        "colab": {
          "base_uri": "https://localhost:8080/",
          "height": 1000
        }
      },
      "source": [
        "for week in range(0, 5):\n",
        "  (X, Y) = get_week(week)\n",
        "  regr = select_model(week)\n",
        "  \n",
        "  fig, ax = plt.subplots()\n",
        "  ax.set_title(\"week \" + str(week))\n",
        "  ax.scatter(X, Y)\n",
        "  pred = regr.predict(np.array(X).reshape(-1,1))\n",
        "  ax.plot(X, pred, \":\")"
      ],
      "execution_count": 0,
      "outputs": [
        {
          "output_type": "display_data",
          "data": {
            "image/png": "[encoded data removed]",
            "text/plain": [
              "<Figure size 432x288 with 1 Axes>"
            ]
          },
          "metadata": {
            "tags": [],
            "needs_background": "light"
          }
        },
        {
          "output_type": "display_data",
          "data": {
            "image/png": "[encoded data removed]",
            "text/plain": [
              "<Figure size 432x288 with 1 Axes>"
            ]
          },
          "metadata": {
            "tags": [],
            "needs_background": "light"
          }
        },
        {
          "output_type": "display_data",
          "data": {
            "image/png": "[encoded data removed]",
            "text/plain": [
              "<Figure size 432x288 with 1 Axes>"
            ]
          },
          "metadata": {
            "tags": [],
            "needs_background": "light"
          }
        },
        {
          "output_type": "display_data",
          "data": {
            "image/png": "[encoded data removed]",
            "text/plain": [
              "<Figure size 432x288 with 1 Axes>"
            ]
          },
          "metadata": {
            "tags": [],
            "needs_background": "light"
          }
        },
        {
          "output_type": "display_data",
          "data": {
            "image/png": "[encoded data removed]",
            "text/plain": [
              "<Figure size 432x288 with 1 Axes>"
            ]
          },
          "metadata": {
            "tags": [],
            "needs_background": "light"
          }
        }
      ]
    },
    {
      "cell_type": "code",
      "metadata": {
        "id": "mTukZqzfBYNn",
        "colab_type": "code",
        "outputId": "de077568-30d4-43f5-c5c4-fb42fe8dee5f",
        "colab": {
          "base_uri": "https://localhost:8080/",
          "height": 92
        }
      },
      "source": [
        "\n",
        "from sklearn.externals import joblib \n",
        "#save model as diabetes.pkl\n",
        "regr = select_model(1)\n",
        "model_name = \"turnip_model.pk1\"\n",
        "joblib.dump(regr,model_name)\n",
        "#loading the model\n",
        "\n"
      ],
      "execution_count": 0,
      "outputs": [
        {
          "output_type": "stream",
          "text": [
            "/usr/local/lib/python3.6/dist-packages/sklearn/externals/joblib/__init__.py:15: FutureWarning: sklearn.externals.joblib is deprecated in 0.21 and will be removed in 0.23. Please import this functionality directly from joblib, which can be installed with: pip install joblib. If this warning is raised when loading pickled models, you may need to re-serialize those models with scikit-learn 0.21+.\n",
            "  warnings.warn(msg, category=FutureWarning)\n"
          ],
          "name": "stderr"
        },
        {
          "output_type": "execute_result",
          "data": {
            "text/plain": [
              "['turnip_model.pk1']"
            ]
          },
          "metadata": {
            "tags": []
          },
          "execution_count": 5
        }
      ]
    },
    {
      "cell_type": "code",
      "metadata": {
        "id": "QP5qcpnMOuC8",
        "colab_type": "code",
        "outputId": "a5c11ec8-7baf-4851-f379-8822e1c4f509",
        "colab": {
          "base_uri": "https://localhost:8080/",
          "height": 72
        }
      },
      "source": [
        "\n",
        "import joblib\n",
        "\n",
        "model = joblib.load('turnip_model.pk1')\n",
        "coef = float(model.coef_[0])\n",
        "y = int(input(\"Enter the sell value for Monday: \"))\n",
        "x = int(input(\"Enter day to estimate: \"))\n",
        "print(\"Estimateed amount is: \" , int(x*coef + y))\n",
        "#x = int(input(\"Enter day:\"))\n",
        "#print(\"Predicted sell value is : \", model.predict(np.array(x).reshape(-1,1)))"
      ],
      "execution_count": 0,
      "outputs": [
        {
          "output_type": "stream",
          "text": [
            "Enter the sell value for Monday: 90\n",
            "Enter day to estimate:2\n",
            "Estimateed amount is:  74\n"
          ],
          "name": "stdout"
        }
      ]
    }
  ]
}