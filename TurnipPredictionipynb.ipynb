{
  "nbformat": 4,
  "nbformat_minor": 0,
  "metadata": {
    "colab": {
      "name": "TurnipPredictionipynb",
      "provenance": [],
      "collapsed_sections": [],
      "include_colab_link": true
    },
    "kernelspec": {
      "name": "python3",
      "display_name": "Python 3"
    }
  },
  "cells": [
    {
      "cell_type": "markdown",
      "metadata": {
        "id": "view-in-github",
        "colab_type": "text"
      },
      "source": [
        "<a href=\"https://colab.research.google.com/github/a-chan041/CS497-TurnipPricePredictor/blob/master/TurnipPredictionipynb.ipynb\" target=\"_parent\"><img src=\"https://colab.research.google.com/assets/colab-badge.svg\" alt=\"Open In Colab\"/></a>"
      ]
    },
    {
      "cell_type": "code",
      "metadata": {
        "id": "RGxs_Dcd67xL",
        "colab_type": "code",
        "colab": {}
      },
      "source": [
        "import pandas as pd\n",
        "import numpy as np\n",
        "import math\n",
        "import matplotlib.pyplot as plt\n",
        "from sklearn.model_selection import train_test_split\n",
        "from sklearn.linear_model import LinearRegression\n",
        "\n",
        "# monday-saturday day number (no sunday)\n",
        "# and sell price\n",
        "\n",
        "# 0 means not recorded so we skip that value\n",
        "week_pairs = [\n",
        "    [\n",
        "        # Monday 4/6 AM\n",
        "        (0.0, 0),\n",
        "        # Monday 4/6 PM\n",
        "        (0.5, 0),\n",
        "        (1.0, 150),\n",
        "        (1.5, 160),\n",
        "        (2.0, 154),\n",
        "        (2.5, 61),\n",
        "        (3.0, 57),\n",
        "        (3.5, 51),\n",
        "        (4.0, 48),\n",
        "        (4.5, 44),\n",
        "        (5.0, 40),\n",
        "        (5.5, 37),\n",
        "    ],\n",
        "\n",
        "    [\n",
        "        # Monday 4/13 AM\n",
        "        (0.0, 96),\n",
        "        (0.5, 94),\n",
        "        (1.0, 88),\n",
        "        (1.5, 84),\n",
        "        (2.0, 81),\n",
        "        (2.5, 77),\n",
        "        (3.0, 73),\n",
        "        (3.5, 68),\n",
        "        (4.0, 64),\n",
        "        (4.5, 61),\n",
        "        (5.0, 57),\n",
        "        (5.5, 51),\n",
        "    ],\n",
        "\n",
        "    [\n",
        "        # Monday 4/20 AM\n",
        "        (0.0, 80),\n",
        "        (0.5, 76),\n",
        "        (1.0, 72),\n",
        "        (1.5, 68),\n",
        "        (2.0, 84),\n",
        "        (2.5, 86),\n",
        "        (3.0, 126),\n",
        "        (3.5, 180),\n",
        "        (4.0, 137),\n",
        "        (4.5, 53),\n",
        "        (5.0, 50),\n",
        "        (5.5, 46),\n",
        "    ],\n",
        "\n",
        "    [\n",
        "        # Monday 4/27 AM\n",
        "        (0.0, 89),\n",
        "        (0.5, 85),\n",
        "        (1.0, 82),\n",
        "        (1.5, 78),\n",
        "        (2.0, 74),\n",
        "        (2.5, 137),\n",
        "        (3.0, 165),\n",
        "        (3.5, 169),\n",
        "        (4.0, 155),\n",
        "        (4.5, 53),\n",
        "        (5.0, 49),\n",
        "        (5.5, 43),\n",
        "    ],\n",
        "\n",
        "    [\n",
        "        # Monday 5/4 AM\n",
        "        (0.0, 73),\n",
        "        (0.5, 68),\n",
        "        (1.0, 63),\n",
        "        (1.5, 124),\n",
        "        (2.0, 138),\n",
        "        (2.5, 155),\n",
        "        (3.0, 194),\n",
        "        (3.5, 166),\n",
        "        (4.0, 72),\n",
        "        (4.5, 68),\n",
        "        (5.0, 0),\n",
        "        (5.5, 0),\n",
        "    ],\n",
        "]\n",
        "\n",
        "MAX_Y = 100\n",
        "\n",
        "def cleaned_pairs(selection):\n",
        "  new_pairs = []\n",
        "  for pair in week_pairs[selection]:\n",
        "    (day, price) = pair\n",
        "    if price < MAX_Y and price != 0:\n",
        "      new_pairs.append(pair)\n",
        "\n",
        "  return new_pairs\n",
        "\n",
        "def get_week(selection):\n",
        "    Xs = [day for (day, price) in cleaned_pairs(selection)]\n",
        "    Ys = [price for (day, price) in cleaned_pairs(selection)]\n",
        "    return (Xs, Ys)\n",
        "\n",
        "def select_split(selection):\n",
        "    (Xs, Ys) = get_week(selection)\n",
        "    X_train, X_test, y_train, y_test = train_test_split(Xs, Ys, test_size=.25, random_state=0)\n",
        "    return X_train, y_train\n",
        "\n",
        "\n",
        "def select_model(selection):\n",
        "    X, Y = select_split(selection)\n",
        "    X_train = np.array(X).reshape(-1, 1)\n",
        "    model = LinearRegression().fit(X_train, Y)\n",
        "    return model\n"
      ],
      "execution_count": 0,
      "outputs": []
    },
    {
      "cell_type": "code",
      "metadata": {
        "id": "saXnSwZBsl7q",
        "colab_type": "code",
        "outputId": "b3927cb5-0133-4e0f-c327-c09279ff7392",
        "colab": {
          "base_uri": "https://localhost:8080/",
          "height": 285
        }
      },
      "source": [
        "\n",
        "# concatted x and y for plotting\n",
        "X = []\n",
        "Y = []\n",
        "total_day = 0.0\n",
        "for pairs in week_pairs:\n",
        "  for (_day, price) in pairs:\n",
        "    X.append(total_day)\n",
        "    total_day += 0.5\n",
        "    Y.append(price)\n",
        "\n",
        "regr = select_model(0)\n",
        "plt.axhline(y=MAX_Y)\n",
        "plt.axvline(x=0.0)\n",
        "plt.axvline(x=6.0)\n",
        "plt.axvline(x=12.0)\n",
        "plt.axvline(x=18.0)\n",
        "plt.axvline(x=24.0)\n",
        "plt.axvline(x=30.0)\n",
        "plt.scatter(X, Y)"
      ],
      "execution_count": 0,
      "outputs": [
        {
          "output_type": "execute_result",
          "data": {
            "text/plain": [
              "<matplotlib.collections.PathCollection at 0x7fed4f7c5828>"
            ]
          },
          "metadata": {
            "tags": []
          },
          "execution_count": 18
        },
        {
          "output_type": "display_data",
          "data": {
            "image/png": "[encoded data removed]",
            "text/plain": [
              "<Figure size 432x288 with 1 Axes>"
            ]
          },
          "metadata": {
            "tags": [],
            "needs_background": "light"
          }
        }
      ]
    },
    {
      "cell_type": "code",
      "metadata": {
        "id": "deSjIWC-Rfva",
        "colab_type": "code",
        "outputId": "a3e3a0e3-6e59-4303-a39e-6f1d89e157b2",
        "colab": {
          "base_uri": "https://localhost:8080/",
          "height": 1000
        }
      },
      "source": [
        "for week in range(0, 5):\n",
        "  (X, Y) = get_week(week)\n",
        "  regr = select_model(week)\n",
        "  \n",
        "  fig, ax = plt.subplots()\n",
        "  ax.set_title(\"week \" + str(week))\n",
        "  ax.scatter(X, Y)\n",
        "  pred = regr.predict(np.array(X).reshape(-1,1))\n",
        "  ax.plot(X, pred, \":\")"
      ],
      "execution_count": 0,
      "outputs": [
        {
          "output_type": "display_data",
          "data": {
            "image/png": "[encoded data removed]",
            "text/plain": [
              "<Figure size 432x288 with 1 Axes>"
            ]
          },
          "metadata": {
            "tags": [],
            "needs_background": "light"
          }
        },
        {
          "output_type": "display_data",
          "data": {
            "image/png": "[encoded data removed]",
            "text/plain": [
              "<Figure size 432x288 with 1 Axes>"
            ]
          },
          "metadata": {
            "tags": [],
            "needs_background": "light"
          }
        },
        {
          "output_type": "display_data",
          "data": {
            "image/png": "[encoded data removed]",
            "text/plain": [
              "<Figure size 432x288 with 1 Axes>"
            ]
          },
          "metadata": {
            "tags": [],
            "needs_background": "light"
          }
        },
        {
          "output_type": "display_data",
          "data": {
            "image/png": "[encoded data removed]",
            "text/plain": [
              "<Figure size 432x288 with 1 Axes>"
            ]
          },
          "metadata": {
            "tags": [],
            "needs_background": "light"
          }
        },
        {
          "output_type": "display_data",
          "data": {
            "image/png": "[encoded data removed]",
            "text/plain": [
              "<Figure size 432x288 with 1 Axes>"
            ]
          },
          "metadata": {
            "tags": [],
            "needs_background": "light"
          }
        }
      ]
    },
    {
      "cell_type": "code",
      "metadata": {
        "id": "mTukZqzfBYNn",
        "colab_type": "code",
        "outputId": "571805b7-7459-46bd-b916-7c54c9d6cb6d",
        "colab": {
          "base_uri": "https://localhost:8080/",
          "height": 35
        }
      },
      "source": [
        "\n",
        "from sklearn.externals import joblib \n",
        "#save model as diabetes.pkl\n",
        "regr = select_model(1)\n",
        "model_name = \"turnip_model.pk1\"\n",
        "joblib.dump(regr,model_name)\n",
        "#loading the model\n",
        "\n"
      ],
      "execution_count": 0,
      "outputs": [
        {
          "output_type": "execute_result",
          "data": {
            "text/plain": [
              "['turnip_model.pk1']"
            ]
          },
          "metadata": {
            "tags": []
          },
          "execution_count": 20
        }
      ]
    },
    {
      "cell_type": "code",
      "metadata": {
        "id": "QP5qcpnMOuC8",
        "colab_type": "code",
        "outputId": "c3d0b8ae-fc55-40e2-9698-a3416a6db507",
        "colab": {
          "base_uri": "https://localhost:8080/",
          "height": 163
        }
      },
      "source": [
        "from sklearn.metrics import mean_squared_error\n",
        "import joblib\n",
        "\n",
        "\n",
        "def print_MSE(model):\n",
        "  count = 1;\n",
        "  for week in range(0, 5):\n",
        "    (X, Y) = get_week(week)\n",
        "    y_pred = model.predict(np.array(X).reshape(-1,1))\n",
        "    print(\"Mean Squared Error Week\", count, round(mean_squared_error(Y, y_pred), 2))\n",
        "    count = count + 1\n",
        "\n",
        "model = joblib.load('turnip_model.pk1')\n",
        "print_MSE(model)\n",
        "coef = float(model.coef_[0])\n",
        "y = int(input(\"Enter the sell value for Monday: \"))\n",
        "x = int(input(\"Enter day to estimate: \"))\n",
        "print(\"Estimated amount is: \" , int(x*coef + y))\n",
        "#x = int(input(\"Enter day:\"))\n",
        "#print(\"Predicted sell value is : \", model.predict(np.array(x).reshape(-1,1)))"
      ],
      "execution_count": 0,
      "outputs": [
        {
          "output_type": "stream",
          "text": [
            "Mean Squared Error Week 1 266.11\n",
            "Mean Squared Error Week 2 0.6\n",
            "Mean Squared Error Week 3 148.68\n",
            "Mean Squared Error Week 4 56.12\n",
            "Mean Squared Error Week 5 383.08\n",
            "Enter the sell value for Monday: 130\n",
            "Enter day to estimate: 2\n",
            "Estimated amount is:  114\n"
          ],
          "name": "stdout"
        }
      ]
    }
  ]
}