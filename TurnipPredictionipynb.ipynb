{
  "nbformat": 4,
  "nbformat_minor": 0,
  "metadata": {
    "colab": {
      "name": "TurnipPredictionipynb",
      "provenance": [],
      "collapsed_sections": [],
      "include_colab_link": true
    },
    "kernelspec": {
      "name": "python3",
      "display_name": "Python 3"
    }
  },
  "cells": [
    {
      "cell_type": "markdown",
      "metadata": {
        "id": "view-in-github",
        "colab_type": "text"
      },
      "source": [
        "<a href=\"https://colab.research.google.com/github/a-chan041/CS497-TurnipPricePredictor/blob/master/TurnipPredictionipynb.ipynb\" target=\"_parent\"><img src=\"https://colab.research.google.com/assets/colab-badge.svg\" alt=\"Open In Colab\"/></a>"
      ]
    },
    {
      "cell_type": "code",
      "metadata": {
        "id": "RGxs_Dcd67xL",
        "colab_type": "code",
        "colab": {}
      },
      "source": [
        "import pandas as pd\n",
        "import numpy as np\n",
        "import math\n",
        "import matplotlib.pyplot as plt\n",
        "from sklearn.model_selection import train_test_split\n",
        "from sklearn.linear_model import LinearRegression\n",
        "\n",
        "# monday-saturday day number (no sunday)\n",
        "# and sell price\n",
        "\n",
        "# 0 means not recorded so we skip that value\n",
        "week_pairs = [\n",
        "    [\n",
        "        # Monday 4/6 AM\n",
        "        (0.0, 0),\n",
        "        # Monday 4/6 PM\n",
        "        (0.5, 0),\n",
        "        (1.0, 150),\n",
        "        (1.5, 160),\n",
        "        (2.0, 154),\n",
        "        (2.5, 61),\n",
        "        (3.0, 57),\n",
        "        (3.5, 51),\n",
        "        (4.0, 48),\n",
        "        (4.5, 44),\n",
        "        (5.0, 40),\n",
        "        (5.5, 37),\n",
        "    ],\n",
        "\n",
        "    [\n",
        "        # Monday 4/13 AM\n",
        "        (0.0, 96),\n",
        "        (0.5, 94),\n",
        "        (1.0, 88),\n",
        "        (1.5, 84),\n",
        "        (2.0, 81),\n",
        "        (2.5, 77),\n",
        "        (3.0, 73),\n",
        "        (3.5, 68),\n",
        "        (4.0, 64),\n",
        "        (4.5, 61),\n",
        "        (5.0, 57),\n",
        "        (5.5, 51),\n",
        "    ],\n",
        "\n",
        "    [\n",
        "        # Monday 4/20 AM\n",
        "        (0.0, 80),\n",
        "        (0.5, 76),\n",
        "        (1.0, 72),\n",
        "        (1.5, 68),\n",
        "        (2.0, 84),\n",
        "        (2.5, 86),\n",
        "        (3.0, 126),\n",
        "        (3.5, 180),\n",
        "        (4.0, 137),\n",
        "        (4.5, 53),\n",
        "        (5.0, 50),\n",
        "        (5.5, 46),\n",
        "    ],\n",
        "\n",
        "    [\n",
        "        # Monday 4/27 AM\n",
        "        (0.0, 89),\n",
        "        (0.5, 85),\n",
        "        (1.0, 82),\n",
        "        (1.5, 78),\n",
        "        (2.0, 74),\n",
        "        (2.5, 137),\n",
        "        (3.0, 165),\n",
        "        (3.5, 169),\n",
        "        (4.0, 155),\n",
        "        (4.5, 53),\n",
        "        (5.0, 49),\n",
        "        (5.5, 43),\n",
        "    ],\n",
        "\n",
        "    [\n",
        "        # Monday 5/4 AM\n",
        "        (0.0, 73),\n",
        "        (0.5, 68),\n",
        "        (1.0, 63),\n",
        "        (1.5, 124),\n",
        "        (2.0, 138),\n",
        "        (2.5, 155),\n",
        "        (3.0, 194),\n",
        "        (3.5, 166),\n",
        "        (4.0, 72),\n",
        "        (4.5, 68),\n",
        "        (5.0, 65),\n",
        "        (5.5, 60),\n",
        "    ],\n",
        "    \n",
        "    # [\n",
        "    #     # Monday 5/11 AM\n",
        "    #     (0.0, 84),\n",
        "    #     (0.5, 80),\n",
        "    #     (1.0, 0),\n",
        "    #     (1.5, 0),\n",
        "    #     (2.0, 0),\n",
        "    #     (2.5, 0),\n",
        "    #     (3.0, 0),\n",
        "    #     (3.5, 0),\n",
        "    #     (4.0, 0),\n",
        "    #     (4.5, 0),\n",
        "    #     (5.0, 0),\n",
        "    #     (5.5, 0),\n",
        "    # ],\n",
        "]\n",
        "\n",
        "MAX_Y = 100\n",
        "\n",
        "def cleaned_pairs(selection):\n",
        "  new_pairs = []\n",
        "  for pair in week_pairs[selection]:\n",
        "    (day, price) = pair\n",
        "    if price < MAX_Y and price != 0:\n",
        "      new_pairs.append(pair)\n",
        "\n",
        "  return new_pairs\n",
        "\n",
        "def get_week(selection):\n",
        "    Xs = [day for (day, price) in cleaned_pairs(selection)]\n",
        "    Ys = [price for (day, price) in cleaned_pairs(selection)]\n",
        "    return (Xs, Ys)\n",
        "\n",
        "def select_split(selection):\n",
        "    (Xs, Ys) = get_week(selection)\n",
        "    X_train, X_test, y_train, y_test = train_test_split(Xs, Ys, test_size=.25, random_state=0)\n",
        "    return X_train, y_train, X_test, y_test\n",
        "\n",
        "\n",
        "def select_model(selection):\n",
        "    X, Y, _, _ = select_split(selection)\n",
        "    X_train = np.array(X).reshape(-1, 1)\n",
        "    model = LinearRegression().fit(X_train, Y)\n",
        "    return model\n"
      ],
      "execution_count": 0,
      "outputs": []
    },
    {
      "cell_type": "code",
      "metadata": {
        "id": "saXnSwZBsl7q",
        "colab_type": "code",
        "outputId": "55992ab0-2b28-4809-f366-6ce1c94322f4",
        "colab": {
          "base_uri": "https://localhost:8080/",
          "height": 283
        }
      },
      "source": [
        "\n",
        "# concatted x and y for plotting\n",
        "X = []\n",
        "Y = []\n",
        "total_day = 0.0\n",
        "for pairs in week_pairs:\n",
        "  for (_day, price) in pairs:\n",
        "    X.append(total_day)\n",
        "    total_day += 0.5\n",
        "    Y.append(price)\n",
        "\n",
        "regr = select_model(0)\n",
        "plt.axhline(y=MAX_Y)\n",
        "plt.axvline(x=0.0)\n",
        "plt.axvline(x=6.0)\n",
        "plt.axvline(x=12.0)\n",
        "plt.axvline(x=18.0)\n",
        "plt.axvline(x=24.0)\n",
        "plt.axvline(x=30.0)\n",
        "plt.scatter(X, Y)"
      ],
      "execution_count": 0,
      "outputs": [
        {
          "output_type": "execute_result",
          "data": {
            "text/plain": [
              "<matplotlib.collections.PathCollection at 0x7f42a07f04a8>"
            ]
          },
          "metadata": {
            "tags": []
          },
          "execution_count": 20
        },
        {
          "output_type": "display_data",
          "data": {
            "image/png": "[encoded data removed]",
            "text/plain": [
              "<Figure size 432x288 with 1 Axes>"
            ]
          },
          "metadata": {
            "tags": [],
            "needs_background": "light"
          }
        }
      ]
    },
    {
      "cell_type": "code",
      "metadata": {
        "id": "deSjIWC-Rfva",
        "colab_type": "code",
        "outputId": "2d7ac6c0-fad8-47df-edf2-4ee1f8be82ef",
        "colab": {
          "base_uri": "https://localhost:8080/",
          "height": 1000
        }
      },
      "source": [
        "for (week, _) in enumerate(week_pairs):\n",
        "  (X, Y) = get_week(week)\n",
        "  regr = select_model(week)\n",
        "  \n",
        "  fig, ax = plt.subplots()\n",
        "  ax.set_title(\"week \" + str(week))\n",
        "  ax.scatter(X, Y)\n",
        "  pred = regr.predict(np.array(X).reshape(-1,1))\n",
        "  ax.plot(X, pred, \":\")"
      ],
      "execution_count": 0,
      "outputs": [
        {
          "output_type": "display_data",
          "data": {
            "image/png": "[encoded data removed]",
            "text/plain": [
              "<Figure size 432x288 with 1 Axes>"
            ]
          },
          "metadata": {
            "tags": [],
            "needs_background": "light"
          }
        },
        {
          "output_type": "display_data",
          "data": {
            "image/png": "[encoded data removed]",
            "text/plain": [
              "<Figure size 432x288 with 1 Axes>"
            ]
          },
          "metadata": {
            "tags": [],
            "needs_background": "light"
          }
        },
        {
          "output_type": "display_data",
          "data": {
            "image/png": "[encoded data removed]",
            "text/plain": [
              "<Figure size 432x288 with 1 Axes>"
            ]
          },
          "metadata": {
            "tags": [],
            "needs_background": "light"
          }
        },
        {
          "output_type": "display_data",
          "data": {
            "image/png": "[encoded data removed]",
            "text/plain": [
              "<Figure size 432x288 with 1 Axes>"
            ]
          },
          "metadata": {
            "tags": [],
            "needs_background": "light"
          }
        },
        {
          "output_type": "display_data",
          "data": {
            "image/png": "[encoded data removed]",
            "text/plain": [
              "<Figure size 432x288 with 1 Axes>"
            ]
          },
          "metadata": {
            "tags": [],
            "needs_background": "light"
          }
        }
      ]
    },
    {
      "cell_type": "code",
      "metadata": {
        "id": "hh1yD4m5vjeM",
        "colab_type": "code",
        "outputId": "4d263f52-ea4e-49f7-a292-c21a4da718dd",
        "colab": {
          "base_uri": "https://localhost:8080/",
          "height": 102
        }
      },
      "source": [
        "from sklearn.metrics import mean_squared_error\n",
        "\n",
        "# use the testing set for each model\n",
        "for (week, _) in enumerate(week_pairs):\n",
        "  model = select_model(week)\n",
        "  (_, _, X, Y) = select_split(week)\n",
        "  y_pred = model.predict(np.array(X).reshape(-1,1))\n",
        "  print(\"Mean Squared Error Week\", week, round(mean_squared_error(Y, y_pred), 2))\n"
      ],
      "execution_count": 0,
      "outputs": [
        {
          "output_type": "stream",
          "text": [
            "Mean Squared Error Week 0 2.22\n",
            "Mean Squared Error Week 1 1.0\n",
            "Mean Squared Error Week 2 50.9\n",
            "Mean Squared Error Week 3 0.51\n",
            "Mean Squared Error Week 4 54.49\n"
          ],
          "name": "stdout"
        }
      ]
    },
    {
      "cell_type": "code",
      "metadata": {
        "id": "mTukZqzfBYNn",
        "colab_type": "code",
        "outputId": "aaa5c453-d20d-4754-98c7-2aa19fbb4b1d",
        "colab": {
          "base_uri": "https://localhost:8080/",
          "height": 34
        }
      },
      "source": [
        "\n",
        "from sklearn.externals import joblib \n",
        "#save model as diabetes.pkl\n",
        "regr = select_model(1)\n",
        "model_name = \"turnip_model.pk1\"\n",
        "joblib.dump(regr,model_name)\n",
        "#loading the model\n",
        "\n"
      ],
      "execution_count": 0,
      "outputs": [
        {
          "output_type": "execute_result",
          "data": {
            "text/plain": [
              "['turnip_model.pk1']"
            ]
          },
          "metadata": {
            "tags": []
          },
          "execution_count": 23
        }
      ]
    },
    {
      "cell_type": "code",
      "metadata": {
        "id": "QP5qcpnMOuC8",
        "colab_type": "code",
        "outputId": "084cdc56-c71f-4826-82ee-4ee6142bff72",
        "colab": {
          "base_uri": "https://localhost:8080/",
          "height": 68
        }
      },
      "source": [
        "import joblib\n",
        "\n",
        "model = joblib.load('turnip_model.pk1')\n",
        "coef = float(model.coef_[0])\n",
        "y = float(input(\"Enter the sell value for Monday (am or pm): \"))\n",
        "x = float(input(\"Enter day to estimate (numbered 0-5 with 0 being Monday): \"))\n",
        "print(\"Estimated sell amount is: \" , int(x*coef + y))\n"
      ],
      "execution_count": 0,
      "outputs": [
        {
          "output_type": "stream",
          "text": [
            "Enter the sell value for Monday (am or pm): 100\n",
            "Enter day to estimate (numbered 0-5 with 0 being Monday): 3\n",
            "Estimated sell amount is:  76\n"
          ],
          "name": "stdout"
        }
      ]
    }
  ]
}